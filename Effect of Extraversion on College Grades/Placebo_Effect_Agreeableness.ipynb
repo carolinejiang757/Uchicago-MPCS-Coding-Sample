{
  "cells": [
    {
      "cell_type": "markdown",
      "metadata": {
        "id": "view-in-github",
        "colab_type": "text"
      },
      "source": [
        "<a href=\"https://colab.research.google.com/github/BaichenTan/ExperimentData_Adv/blob/master/Placebo_Effect_Agreeableness.ipynb\" target=\"_parent\"><img src=\"https://colab.research.google.com/assets/colab-badge.svg\" alt=\"Open In Colab\"/></a>"
      ]
    },
    {
      "cell_type": "markdown",
      "metadata": {
        "id": "QfZkNLUb4B-p"
      },
      "source": [
        "# ATT Estimation Tutorial\n",
        "\n",
        "This tutorial gives a short example for how to estimate average treatment effect on the treated using machine learning methods"
      ]
    },
    {
      "cell_type": "code",
      "execution_count": null,
      "metadata": {
        "id": "dS2X3Bq1-fxE"
      },
      "outputs": [],
      "source": [
        "import numpy as np\n",
        "import pandas as pd\n",
        "import scipy as sp\n",
        "from sklearn.ensemble import RandomForestClassifier, RandomForestRegressor\n",
        "from sklearn.linear_model import LogisticRegression\n",
        "from sklearn.linear_model import LinearRegression\n",
        "from sklearn.neighbors import KNeighborsRegressor, KNeighborsClassifier\n",
        "from sklearn.tree import DecisionTreeRegressor, DecisionTreeClassifier\n",
        "from sklearn.model_selection import KFold, StratifiedKFold, train_test_split\n",
        "from sklearn.metrics import mean_squared_error, log_loss\n",
        "from xgboost import XGBClassifier, XGBRegressor\n",
        "import sklearn\n",
        "import os\n",
        "import matplotlib.pyplot as plt\n",
        "from matplotlib.pyplot import hist\n",
        "from tabulate import tabulate"
      ]
    },
    {
      "cell_type": "code",
      "execution_count": null,
      "metadata": {
        "id": "nxJ46X9cFJ9X"
      },
      "outputs": [],
      "source": [
        "RANDOM_SEED=42\n",
        "np.random.seed(RANDOM_SEED)"
      ]
    },
    {
      "cell_type": "markdown",
      "metadata": {
        "id": "CjKmYJkW2YiC"
      },
      "source": [
        "# Import dataset"
      ]
    },
    {
      "cell_type": "code",
      "execution_count": null,
      "metadata": {
        "colab": {
          "base_uri": "https://localhost:8080/",
          "height": 505
        },
        "id": "-L-Q9K1V2XWI",
        "outputId": "5678a1d0-c988-4754-d8cf-a946be9b9c9e"
      },
      "outputs": [
        {
          "output_type": "execute_result",
          "data": {
            "text/plain": [
              "      Unnamed: 0  ...1  followup_fallstudyhours  followup_getwritinghelp  \\\n",
              "0              1   294                        4                        3   \n",
              "1              2   562                       21                        5   \n",
              "2              3   409                        6                        2   \n",
              "3              4   211                       20                        4   \n",
              "4              5   324                        8                        2   \n",
              "...          ...   ...                      ...                      ...   \n",
              "1048        1049   880                        1                        3   \n",
              "1049        1050   919                        5                        5   \n",
              "1050        1051   973                       10                        2   \n",
              "1051        1052   156                        4                        5   \n",
              "1052        1053  1048                        1                        5   \n",
              "\n",
              "      followup_metwithinstructor  followup_metwithfreetutor  \\\n",
              "0                              0                          0   \n",
              "1                              2                          2   \n",
              "2                              0                          0   \n",
              "3                              5                          0   \n",
              "4                              0                          0   \n",
              "...                          ...                        ...   \n",
              "1048                           2                          2   \n",
              "1049                           1                          1   \n",
              "1050                           0                          0   \n",
              "1051                           1                          0   \n",
              "1052                           0                          0   \n",
              "\n",
              "      followup_imptodowellatuoft  followup_depressed  followup_stressed  \\\n",
              "0                              6                   1                  3   \n",
              "1                              7                   1                  2   \n",
              "2                              4                   2                  2   \n",
              "3                              7                   2                  3   \n",
              "4                              6                   0                  3   \n",
              "...                          ...                 ...                ...   \n",
              "1048                           5                   2                  3   \n",
              "1049                           4                   2                  1   \n",
              "1050                           6                   3                  2   \n",
              "1051                           7                   1                  2   \n",
              "1052                           7                   2                  1   \n",
              "\n",
              "      fathers_education  mothers_education  fall_meangrade_year1  \\\n",
              "0                     4                  4             72.000000   \n",
              "1                     8                  7             73.333336   \n",
              "2                     7                  6             74.333336   \n",
              "3                     6                  7             71.333336   \n",
              "4                     1                  2             83.333336   \n",
              "...                 ...                ...                   ...   \n",
              "1048                  5                  2             73.000000   \n",
              "1049                  6                  2             85.500000   \n",
              "1050                  5                  2             82.250000   \n",
              "1051                  6                  6             77.000000   \n",
              "1052                  6                  6             65.000000   \n",
              "\n",
              "      exp_gradschl  agreeableness2  agreeableness  extraversion2  \\\n",
              "0                1       -4.179262              0       1.563177   \n",
              "1                1       -3.793850              0       0.284882   \n",
              "2                1       -3.408439              0      -0.833625   \n",
              "3                1       -3.215733              0       1.243603   \n",
              "4                1       -3.215733              0       1.243603   \n",
              "...            ...             ...            ...            ...   \n",
              "1048             1        1.987321              1       0.284882   \n",
              "1049             0        1.987321              1       0.444669   \n",
              "1050             1        1.987321              1      -1.472773   \n",
              "1051             1        2.180027              1       0.764243   \n",
              "1052             0        2.180027              1       0.764243   \n",
              "\n",
              "      extraversion  study_habit  \n",
              "0                1            3  \n",
              "1                1            9  \n",
              "2                0            2  \n",
              "3                1            9  \n",
              "4                1            2  \n",
              "...            ...          ...  \n",
              "1048             1            7  \n",
              "1049             1            7  \n",
              "1050             0            2  \n",
              "1051             1            6  \n",
              "1052             1            5  \n",
              "\n",
              "[1053 rows x 18 columns]"
            ],
            "text/html": [
              "\n",
              "  <div id=\"df-b6233aa2-e19c-49ae-a843-7c8b3b033b1b\">\n",
              "    <div class=\"colab-df-container\">\n",
              "      <div>\n",
              "<style scoped>\n",
              "    .dataframe tbody tr th:only-of-type {\n",
              "        vertical-align: middle;\n",
              "    }\n",
              "\n",
              "    .dataframe tbody tr th {\n",
              "        vertical-align: top;\n",
              "    }\n",
              "\n",
              "    .dataframe thead th {\n",
              "        text-align: right;\n",
              "    }\n",
              "</style>\n",
              "<table border=\"1\" class=\"dataframe\">\n",
              "  <thead>\n",
              "    <tr style=\"text-align: right;\">\n",
              "      <th></th>\n",
              "      <th>Unnamed: 0</th>\n",
              "      <th>...1</th>\n",
              "      <th>followup_fallstudyhours</th>\n",
              "      <th>followup_getwritinghelp</th>\n",
              "      <th>followup_metwithinstructor</th>\n",
              "      <th>followup_metwithfreetutor</th>\n",
              "      <th>followup_imptodowellatuoft</th>\n",
              "      <th>followup_depressed</th>\n",
              "      <th>followup_stressed</th>\n",
              "      <th>fathers_education</th>\n",
              "      <th>mothers_education</th>\n",
              "      <th>fall_meangrade_year1</th>\n",
              "      <th>exp_gradschl</th>\n",
              "      <th>agreeableness2</th>\n",
              "      <th>agreeableness</th>\n",
              "      <th>extraversion2</th>\n",
              "      <th>extraversion</th>\n",
              "      <th>study_habit</th>\n",
              "    </tr>\n",
              "  </thead>\n",
              "  <tbody>\n",
              "    <tr>\n",
              "      <th>0</th>\n",
              "      <td>1</td>\n",
              "      <td>294</td>\n",
              "      <td>4</td>\n",
              "      <td>3</td>\n",
              "      <td>0</td>\n",
              "      <td>0</td>\n",
              "      <td>6</td>\n",
              "      <td>1</td>\n",
              "      <td>3</td>\n",
              "      <td>4</td>\n",
              "      <td>4</td>\n",
              "      <td>72.000000</td>\n",
              "      <td>1</td>\n",
              "      <td>-4.179262</td>\n",
              "      <td>0</td>\n",
              "      <td>1.563177</td>\n",
              "      <td>1</td>\n",
              "      <td>3</td>\n",
              "    </tr>\n",
              "    <tr>\n",
              "      <th>1</th>\n",
              "      <td>2</td>\n",
              "      <td>562</td>\n",
              "      <td>21</td>\n",
              "      <td>5</td>\n",
              "      <td>2</td>\n",
              "      <td>2</td>\n",
              "      <td>7</td>\n",
              "      <td>1</td>\n",
              "      <td>2</td>\n",
              "      <td>8</td>\n",
              "      <td>7</td>\n",
              "      <td>73.333336</td>\n",
              "      <td>1</td>\n",
              "      <td>-3.793850</td>\n",
              "      <td>0</td>\n",
              "      <td>0.284882</td>\n",
              "      <td>1</td>\n",
              "      <td>9</td>\n",
              "    </tr>\n",
              "    <tr>\n",
              "      <th>2</th>\n",
              "      <td>3</td>\n",
              "      <td>409</td>\n",
              "      <td>6</td>\n",
              "      <td>2</td>\n",
              "      <td>0</td>\n",
              "      <td>0</td>\n",
              "      <td>4</td>\n",
              "      <td>2</td>\n",
              "      <td>2</td>\n",
              "      <td>7</td>\n",
              "      <td>6</td>\n",
              "      <td>74.333336</td>\n",
              "      <td>1</td>\n",
              "      <td>-3.408439</td>\n",
              "      <td>0</td>\n",
              "      <td>-0.833625</td>\n",
              "      <td>0</td>\n",
              "      <td>2</td>\n",
              "    </tr>\n",
              "    <tr>\n",
              "      <th>3</th>\n",
              "      <td>4</td>\n",
              "      <td>211</td>\n",
              "      <td>20</td>\n",
              "      <td>4</td>\n",
              "      <td>5</td>\n",
              "      <td>0</td>\n",
              "      <td>7</td>\n",
              "      <td>2</td>\n",
              "      <td>3</td>\n",
              "      <td>6</td>\n",
              "      <td>7</td>\n",
              "      <td>71.333336</td>\n",
              "      <td>1</td>\n",
              "      <td>-3.215733</td>\n",
              "      <td>0</td>\n",
              "      <td>1.243603</td>\n",
              "      <td>1</td>\n",
              "      <td>9</td>\n",
              "    </tr>\n",
              "    <tr>\n",
              "      <th>4</th>\n",
              "      <td>5</td>\n",
              "      <td>324</td>\n",
              "      <td>8</td>\n",
              "      <td>2</td>\n",
              "      <td>0</td>\n",
              "      <td>0</td>\n",
              "      <td>6</td>\n",
              "      <td>0</td>\n",
              "      <td>3</td>\n",
              "      <td>1</td>\n",
              "      <td>2</td>\n",
              "      <td>83.333336</td>\n",
              "      <td>1</td>\n",
              "      <td>-3.215733</td>\n",
              "      <td>0</td>\n",
              "      <td>1.243603</td>\n",
              "      <td>1</td>\n",
              "      <td>2</td>\n",
              "    </tr>\n",
              "    <tr>\n",
              "      <th>...</th>\n",
              "      <td>...</td>\n",
              "      <td>...</td>\n",
              "      <td>...</td>\n",
              "      <td>...</td>\n",
              "      <td>...</td>\n",
              "      <td>...</td>\n",
              "      <td>...</td>\n",
              "      <td>...</td>\n",
              "      <td>...</td>\n",
              "      <td>...</td>\n",
              "      <td>...</td>\n",
              "      <td>...</td>\n",
              "      <td>...</td>\n",
              "      <td>...</td>\n",
              "      <td>...</td>\n",
              "      <td>...</td>\n",
              "      <td>...</td>\n",
              "      <td>...</td>\n",
              "    </tr>\n",
              "    <tr>\n",
              "      <th>1048</th>\n",
              "      <td>1049</td>\n",
              "      <td>880</td>\n",
              "      <td>1</td>\n",
              "      <td>3</td>\n",
              "      <td>2</td>\n",
              "      <td>2</td>\n",
              "      <td>5</td>\n",
              "      <td>2</td>\n",
              "      <td>3</td>\n",
              "      <td>5</td>\n",
              "      <td>2</td>\n",
              "      <td>73.000000</td>\n",
              "      <td>1</td>\n",
              "      <td>1.987321</td>\n",
              "      <td>1</td>\n",
              "      <td>0.284882</td>\n",
              "      <td>1</td>\n",
              "      <td>7</td>\n",
              "    </tr>\n",
              "    <tr>\n",
              "      <th>1049</th>\n",
              "      <td>1050</td>\n",
              "      <td>919</td>\n",
              "      <td>5</td>\n",
              "      <td>5</td>\n",
              "      <td>1</td>\n",
              "      <td>1</td>\n",
              "      <td>4</td>\n",
              "      <td>2</td>\n",
              "      <td>1</td>\n",
              "      <td>6</td>\n",
              "      <td>2</td>\n",
              "      <td>85.500000</td>\n",
              "      <td>0</td>\n",
              "      <td>1.987321</td>\n",
              "      <td>1</td>\n",
              "      <td>0.444669</td>\n",
              "      <td>1</td>\n",
              "      <td>7</td>\n",
              "    </tr>\n",
              "    <tr>\n",
              "      <th>1050</th>\n",
              "      <td>1051</td>\n",
              "      <td>973</td>\n",
              "      <td>10</td>\n",
              "      <td>2</td>\n",
              "      <td>0</td>\n",
              "      <td>0</td>\n",
              "      <td>6</td>\n",
              "      <td>3</td>\n",
              "      <td>2</td>\n",
              "      <td>5</td>\n",
              "      <td>2</td>\n",
              "      <td>82.250000</td>\n",
              "      <td>1</td>\n",
              "      <td>1.987321</td>\n",
              "      <td>1</td>\n",
              "      <td>-1.472773</td>\n",
              "      <td>0</td>\n",
              "      <td>2</td>\n",
              "    </tr>\n",
              "    <tr>\n",
              "      <th>1051</th>\n",
              "      <td>1052</td>\n",
              "      <td>156</td>\n",
              "      <td>4</td>\n",
              "      <td>5</td>\n",
              "      <td>1</td>\n",
              "      <td>0</td>\n",
              "      <td>7</td>\n",
              "      <td>1</td>\n",
              "      <td>2</td>\n",
              "      <td>6</td>\n",
              "      <td>6</td>\n",
              "      <td>77.000000</td>\n",
              "      <td>1</td>\n",
              "      <td>2.180027</td>\n",
              "      <td>1</td>\n",
              "      <td>0.764243</td>\n",
              "      <td>1</td>\n",
              "      <td>6</td>\n",
              "    </tr>\n",
              "    <tr>\n",
              "      <th>1052</th>\n",
              "      <td>1053</td>\n",
              "      <td>1048</td>\n",
              "      <td>1</td>\n",
              "      <td>5</td>\n",
              "      <td>0</td>\n",
              "      <td>0</td>\n",
              "      <td>7</td>\n",
              "      <td>2</td>\n",
              "      <td>1</td>\n",
              "      <td>6</td>\n",
              "      <td>6</td>\n",
              "      <td>65.000000</td>\n",
              "      <td>0</td>\n",
              "      <td>2.180027</td>\n",
              "      <td>1</td>\n",
              "      <td>0.764243</td>\n",
              "      <td>1</td>\n",
              "      <td>5</td>\n",
              "    </tr>\n",
              "  </tbody>\n",
              "</table>\n",
              "<p>1053 rows × 18 columns</p>\n",
              "</div>\n",
              "      <button class=\"colab-df-convert\" onclick=\"convertToInteractive('df-b6233aa2-e19c-49ae-a843-7c8b3b033b1b')\"\n",
              "              title=\"Convert this dataframe to an interactive table.\"\n",
              "              style=\"display:none;\">\n",
              "        \n",
              "  <svg xmlns=\"http://www.w3.org/2000/svg\" height=\"24px\"viewBox=\"0 0 24 24\"\n",
              "       width=\"24px\">\n",
              "    <path d=\"M0 0h24v24H0V0z\" fill=\"none\"/>\n",
              "    <path d=\"M18.56 5.44l.94 2.06.94-2.06 2.06-.94-2.06-.94-.94-2.06-.94 2.06-2.06.94zm-11 1L8.5 8.5l.94-2.06 2.06-.94-2.06-.94L8.5 2.5l-.94 2.06-2.06.94zm10 10l.94 2.06.94-2.06 2.06-.94-2.06-.94-.94-2.06-.94 2.06-2.06.94z\"/><path d=\"M17.41 7.96l-1.37-1.37c-.4-.4-.92-.59-1.43-.59-.52 0-1.04.2-1.43.59L10.3 9.45l-7.72 7.72c-.78.78-.78 2.05 0 2.83L4 21.41c.39.39.9.59 1.41.59.51 0 1.02-.2 1.41-.59l7.78-7.78 2.81-2.81c.8-.78.8-2.07 0-2.86zM5.41 20L4 18.59l7.72-7.72 1.47 1.35L5.41 20z\"/>\n",
              "  </svg>\n",
              "      </button>\n",
              "      \n",
              "  <style>\n",
              "    .colab-df-container {\n",
              "      display:flex;\n",
              "      flex-wrap:wrap;\n",
              "      gap: 12px;\n",
              "    }\n",
              "\n",
              "    .colab-df-convert {\n",
              "      background-color: #E8F0FE;\n",
              "      border: none;\n",
              "      border-radius: 50%;\n",
              "      cursor: pointer;\n",
              "      display: none;\n",
              "      fill: #1967D2;\n",
              "      height: 32px;\n",
              "      padding: 0 0 0 0;\n",
              "      width: 32px;\n",
              "    }\n",
              "\n",
              "    .colab-df-convert:hover {\n",
              "      background-color: #E2EBFA;\n",
              "      box-shadow: 0px 1px 2px rgba(60, 64, 67, 0.3), 0px 1px 3px 1px rgba(60, 64, 67, 0.15);\n",
              "      fill: #174EA6;\n",
              "    }\n",
              "\n",
              "    [theme=dark] .colab-df-convert {\n",
              "      background-color: #3B4455;\n",
              "      fill: #D2E3FC;\n",
              "    }\n",
              "\n",
              "    [theme=dark] .colab-df-convert:hover {\n",
              "      background-color: #434B5C;\n",
              "      box-shadow: 0px 1px 3px 1px rgba(0, 0, 0, 0.15);\n",
              "      filter: drop-shadow(0px 1px 2px rgba(0, 0, 0, 0.3));\n",
              "      fill: #FFFFFF;\n",
              "    }\n",
              "  </style>\n",
              "\n",
              "      <script>\n",
              "        const buttonEl =\n",
              "          document.querySelector('#df-b6233aa2-e19c-49ae-a843-7c8b3b033b1b button.colab-df-convert');\n",
              "        buttonEl.style.display =\n",
              "          google.colab.kernel.accessAllowed ? 'block' : 'none';\n",
              "\n",
              "        async function convertToInteractive(key) {\n",
              "          const element = document.querySelector('#df-b6233aa2-e19c-49ae-a843-7c8b3b033b1b');\n",
              "          const dataTable =\n",
              "            await google.colab.kernel.invokeFunction('convertToInteractive',\n",
              "                                                     [key], {});\n",
              "          if (!dataTable) return;\n",
              "\n",
              "          const docLinkHtml = 'Like what you see? Visit the ' +\n",
              "            '<a target=\"_blank\" href=https://colab.research.google.com/notebooks/data_table.ipynb>data table notebook</a>'\n",
              "            + ' to learn more about interactive tables.';\n",
              "          element.innerHTML = '';\n",
              "          dataTable['output_type'] = 'display_data';\n",
              "          await google.colab.output.renderOutput(dataTable, element);\n",
              "          const docLink = document.createElement('div');\n",
              "          docLink.innerHTML = docLinkHtml;\n",
              "          element.appendChild(docLink);\n",
              "        }\n",
              "      </script>\n",
              "    </div>\n",
              "  </div>\n",
              "  "
            ]
          },
          "metadata": {},
          "execution_count": 4
        }
      ],
      "source": [
        "data = pd.read_csv(\"https://raw.githubusercontent.com/BaichenTan/ExperimentData_Adv/master/dataset_trimmed_agreeableness_final.csv\")\n",
        "data\n"
      ]
    },
    {
      "cell_type": "markdown",
      "metadata": {
        "id": "Q57avql1Pu4k"
      },
      "source": [
        "## Counfounders, Outcome, and Treatment"
      ]
    },
    {
      "cell_type": "code",
      "execution_count": null,
      "metadata": {
        "id": "PHF8AKpy4o4I"
      },
      "outputs": [],
      "source": [
        "#create a dataset of confounders\n",
        "confounders_without_Mediator = data[['fathers_education', 'mothers_education']]\n",
        "confounders_with_allMediators = data[[\"followup_fallstudyhours\", \"followup_imptodowellatuoft\", \"followup_depressed\", \"followup_stressed\", \"fathers_education\",\t\"mothers_education\", \"exp_gradschl\", \"study_habit\"]]\n",
        "confounders_with_mediatorStudyHours = data[[\"followup_fallstudyhours\", \"followup_imptodowellatuoft\", \"followup_depressed\", \"followup_stressed\", \"fathers_education\",\t\"mothers_education\", \"exp_gradschl\"]]\n",
        "confounders_with_mediatorStudyHabits = data[[\"study_habit\",\"followup_imptodowellatuoft\", \"followup_depressed\", \"followup_stressed\", \"fathers_education\",\t\"mothers_education\", \"exp_gradschl\"]]\n",
        "outcome = data['fall_meangrade_year1']\n",
        "treatment = data['extraversion']\n",
        "placebo = data['agreeableness']"
      ]
    },
    {
      "cell_type": "markdown",
      "metadata": {
        "id": "C576dWRsa3ad"
      },
      "source": [
        "## Specify Nuisance Function Models\n",
        "\n",
        "The next step is to specify models for the conditional expected outcome and propensity score"
      ]
    },
    {
      "cell_type": "markdown",
      "source": [
        "## Q model"
      ],
      "metadata": {
        "id": "1W8fIAHzhxZJ"
      }
    },
    {
      "cell_type": "markdown",
      "metadata": {
        "id": "5PmmVpO89glE"
      },
      "source": [
        "### Q model with randomforest"
      ]
    },
    {
      "cell_type": "code",
      "execution_count": null,
      "metadata": {
        "id": "qyOhSZRQRb8W"
      },
      "outputs": [],
      "source": [
        "# specify a model for the conditional expected outcome\n",
        "\n",
        "# make a function that returns a sklearn model for later use in k-folding\n",
        "def make_Qmodel_randomForest():\n",
        "  return RandomForestRegressor(random_state=RANDOM_SEED, n_estimators=500, max_depth=3)\n",
        "\n",
        "Qmodel_randomForest = make_Qmodel_randomForest()\n",
        "\n",
        "# Sanity check that chosen model actually improves test error\n",
        "# A real analysis should give substantial attention to model selection and validation "
      ]
    },
    {
      "cell_type": "markdown",
      "metadata": {
        "id": "gbhY1xyi9WfR"
      },
      "source": [
        "### Q model with linear regression"
      ]
    },
    {
      "cell_type": "code",
      "execution_count": null,
      "metadata": {
        "id": "KlvJEIUb9W1D"
      },
      "outputs": [],
      "source": [
        "def make_Qmodel_linearRegression():\n",
        "  return LinearRegression()\n",
        "\n",
        "Qmodel_LinearRegression = make_Qmodel_linearRegression()\n",
        "\n"
      ]
    },
    {
      "cell_type": "markdown",
      "metadata": {
        "id": "gcyeKSydAr4w"
      },
      "source": [
        "### Q model with XGBoost "
      ]
    },
    {
      "cell_type": "code",
      "execution_count": null,
      "metadata": {
        "id": "5hiMWUOgAsMd"
      },
      "outputs": [],
      "source": [
        "def make_Qmodel_XGBoost():\n",
        "  return XGBRegressor(n_jobs=1, objective = \"reg:squarederror\", random_state=RANDOM_SEED)\n",
        "\n",
        "Qmodel_XGBRegressor = make_Qmodel_XGBoost()"
      ]
    },
    {
      "cell_type": "markdown",
      "metadata": {
        "id": "-jKu1MwyCdCC"
      },
      "source": [
        "## g model"
      ]
    },
    {
      "cell_type": "markdown",
      "metadata": {
        "id": "0eaO1Oi3DS8I"
      },
      "source": [
        "### g model with RandomForest"
      ]
    },
    {
      "cell_type": "code",
      "execution_count": null,
      "metadata": {
        "id": "uq6eZEBXbsaI"
      },
      "outputs": [],
      "source": [
        "# specify a model for the propensity score\n",
        "\n",
        "def make_gmodel_randomForest():\n",
        "\n",
        "  return RandomForestClassifier(n_estimators=100, max_depth=10)\n",
        "\n",
        "gmodel_randomForest = make_gmodel_randomForest()"
      ]
    },
    {
      "cell_type": "markdown",
      "metadata": {
        "id": "4X3sCNeyC6K0"
      },
      "source": [
        "### g model with logistic regression"
      ]
    },
    {
      "cell_type": "code",
      "execution_count": null,
      "metadata": {
        "id": "dV-pn9FXJrDX"
      },
      "outputs": [],
      "source": [
        "def make_gmodel_logisticRegression():\n",
        "  return LogisticRegression(max_iter=1000)\n",
        "\n",
        "gmodel_LogisticRegression = make_gmodel_logisticRegression()"
      ]
    },
    {
      "cell_type": "markdown",
      "metadata": {
        "id": "O-DrXpsQJrW6"
      },
      "source": [
        "### g model with XGBoost"
      ]
    },
    {
      "cell_type": "code",
      "execution_count": null,
      "metadata": {
        "id": "7iX9s1VrJriP"
      },
      "outputs": [],
      "source": [
        "def make_gmodel_XGBClassifier():\n",
        "  return XGBClassifier(use_label_encoder=False, n_jobs=1, objective='binary:logistic',eval_metric = 'logloss', random_state =RANDOM_SEED)\n",
        "\n",
        "gmodel_XGBClassifier = make_gmodel_XGBClassifier()"
      ]
    },
    {
      "cell_type": "markdown",
      "metadata": {
        "id": "2RkvV_4_dFWo"
      },
      "source": [
        "## Use cross fitting to get get predicted outcomes and propensity scores for each unit"
      ]
    },
    {
      "cell_type": "code",
      "execution_count": null,
      "metadata": {
        "id": "KA0AsEGJ_X3b"
      },
      "outputs": [],
      "source": [
        "# helper functions to implement the cross fitting\n",
        "\n",
        "def treatment_k_fold_fit_and_predict(make_model, X:pd.DataFrame, A:np.array, n_splits:int):\n",
        "    \"\"\"\n",
        "    Implements K fold cross-fitting for the model predicting the treatment A. \n",
        "    That is, \n",
        "    1. Split data into K folds\n",
        "    2. For each fold j, the model is fit on the other K-1 folds\n",
        "    3. The fitted model is used to make predictions for each data point in fold j\n",
        "    Returns an array containing the predictions  \n",
        "\n",
        "    Args:\n",
        "    model: function that returns sklearn model (which implements fit and predict_prob)\n",
        "    X: dataframe of variables to adjust for\n",
        "    A: array of treatments\n",
        "    n_splits: number of splits to use\n",
        "    \"\"\"\n",
        "    predictions = np.full_like(A, np.nan, dtype=float)\n",
        "    kf = StratifiedKFold(n_splits=n_splits, shuffle=True, random_state=RANDOM_SEED)\n",
        "    \n",
        "    for train_index, test_index in kf.split(X, A):\n",
        "      X_train = X.loc[train_index]\n",
        "      A_train = A.loc[train_index]\n",
        "      g = make_model()\n",
        "      g.fit(X_train, A_train)\n",
        "\n",
        "      # get predictions for split\n",
        "      predictions[test_index] = g.predict_proba(X.loc[test_index])[:, 1]\n",
        "\n",
        "    assert np.isnan(predictions).sum() == 0\n",
        "    return predictions\n",
        "\n",
        "\n",
        "def outcome_k_fold_fit_and_predict(make_model, X:pd.DataFrame, y:np.array, A:np.array, n_splits:int, output_type:str):\n",
        "    \"\"\"\n",
        "    Implements K fold cross-fitting for the model predicting the outcome Y. \n",
        "    That is, \n",
        "    1. Split data into K folds\n",
        "    2. For each fold j, the model is fit on the other K-1 folds\n",
        "    3. The fitted model is used to make predictions for each data point in fold j\n",
        "    Returns two arrays containing the predictions for all units untreated, all units treated  \n",
        "\n",
        "    Args:\n",
        "    model: function that returns sklearn model (that implements fit and either predict_prob or predict)\n",
        "    X: dataframe of variables to adjust for\n",
        "    y: array of outcomes\n",
        "    A: array of treatments\n",
        "    n_splits: number of splits to use\n",
        "    output_type: type of outcome, \"binary\" or \"continuous\"\n",
        "\n",
        "    \"\"\"\n",
        "    predictions0 = np.full_like(A, np.nan, dtype=float)\n",
        "    predictions1 = np.full_like(y, np.nan, dtype=float)\n",
        "    if output_type == 'binary':\n",
        "      kf = StratifiedKFold(n_splits=n_splits, shuffle=True, random_state=RANDOM_SEED)\n",
        "    elif output_type == 'continuous':\n",
        "      kf = KFold(n_splits=n_splits, shuffle=True, random_state=RANDOM_SEED)\n",
        "\n",
        "    # include the treatment as input feature\n",
        "    X_w_treatment = X.copy()\n",
        "    X_w_treatment[\"A\"] = A\n",
        "\n",
        "    # for predicting effect under treatment / control status for each data point \n",
        "    X0 = X_w_treatment.copy()\n",
        "    X0[\"A\"] = 0\n",
        "    X1 = X_w_treatment.copy()\n",
        "    X1[\"A\"] = 1\n",
        "\n",
        "    \n",
        "    for train_index, test_index in kf.split(X_w_treatment, y):\n",
        "      X_train = X_w_treatment.loc[train_index]\n",
        "      y_train = y.loc[train_index]\n",
        "      q = make_model()\n",
        "      q.fit(X_train, y_train)\n",
        "\n",
        "      if output_type =='binary':\n",
        "        predictions0[test_index] = q.predict_proba(X0.loc[test_index])[:, 1]\n",
        "        predictions1[test_index] = q.predict_proba(X1.loc[test_index])[:, 1]\n",
        "      elif output_type == 'continuous':\n",
        "        predictions0[test_index] = q.predict(X0.loc[test_index])\n",
        "        predictions1[test_index] = q.predict(X1.loc[test_index])\n",
        "\n",
        "    assert np.isnan(predictions0).sum() == 0\n",
        "    assert np.isnan(predictions1).sum() == 0\n",
        "    return predictions0, predictions1"
      ]
    },
    {
      "cell_type": "markdown",
      "source": [
        "## Exclude the moderate units in the g and Q model\n"
      ],
      "metadata": {
        "id": "OTLgbqcTPJZf"
      }
    },
    {
      "cell_type": "markdown",
      "metadata": {
        "id": "VNhM7URdgzQB"
      },
      "source": [
        "## Combine predicted values and data into estimate of ATU"
      ]
    },
    {
      "cell_type": "code",
      "execution_count": null,
      "metadata": {
        "id": "J-vONC5ejwh2"
      },
      "outputs": [],
      "source": [
        "def att_aiptw(Q0, Q1, g, A, Y, prob_t=None):\n",
        "  \"\"\"\n",
        "  # Double ML estimator for the ATT\n",
        "  This uses the ATT specific scores, see equation 3.9 of https://www.econstor.eu/bitstream/10419/149795/1/869216953.pdf\n",
        "  \"\"\"\n",
        "\n",
        "  if prob_t is None:\n",
        "    prob_t = 1 - A.mean() # estimate marginal probability of treatment\n",
        "\n",
        "  tau_hat = (A*((1-g)/g)*(Y-Q1) - (1-A)*(Y-Q1)).mean()/ prob_t\n",
        "  \n",
        "  scores = (A*((1-g)/g)*(Y-Q1) - (1-A)*(Y-Q1) - tau_hat*(1-A)) / prob_t\n",
        "  n = Y.shape[0] # number of observations\n",
        "  std_hat = np.std(scores) / np.sqrt(n)\n",
        "\n",
        "  return tau_hat, std_hat\n"
      ]
    },
    {
      "cell_type": "code",
      "execution_count": null,
      "metadata": {
        "id": "O_F5r0SSkzzK"
      },
      "outputs": [],
      "source": [
        "def ate_aiptw(Q0, Q1, g, A, Y, prob_t=None):\n",
        "  \"\"\"\n",
        "  # Double ML estimator for the ATE\n",
        "  \"\"\"\n",
        "\n",
        "  tau_hat = (Q1 - Q0 + A*(Y-Q1)/g - (1-A)*(Y-Q0)/(1-g)).mean()\n",
        "  \n",
        "  scores = Q1 - Q0 + A*(Y-Q1)/g - (1-A)*(Y-Q0)/(1-g) - tau_hat\n",
        "  n = Y.shape[0] # number of observations\n",
        "  std_hat = np.std(scores) / np.sqrt(n)\n",
        "\n",
        "  return tau_hat, std_hat\n"
      ]
    },
    {
      "cell_type": "markdown",
      "source": [
        "# Placebo Effect"
      ],
      "metadata": {
        "id": "lehfQOSo7hM4"
      }
    },
    {
      "cell_type": "code",
      "source": [
        "#check the overlap conditions using randomForest\n",
        "#get the propensity score function\n",
        "g1_P = treatment_k_fold_fit_and_predict(make_gmodel_randomForest, X=confounders_without_Mediator, \n",
        "                                      A=placebo, n_splits=10)\n",
        "g1_P_overlap = np.concatenate((g1_P[:315],g1_P[695:]))\n",
        "hist(g1_P_overlap, density=True)"
      ],
      "metadata": {
        "colab": {
          "base_uri": "https://localhost:8080/",
          "height": 372
        },
        "outputId": "03e46a3f-6791-44b9-e9cd-35ac40258d49",
        "id": "ad68QVVa8cgs"
      },
      "execution_count": null,
      "outputs": [
        {
          "output_type": "execute_result",
          "data": {
            "text/plain": [
              "(array([0.05969118, 0.05969118, 0.17907355, 0.3581471 , 1.38782001,\n",
              "        5.83481318, 0.85059936, 0.96998173, 0.25368753, 0.08953678]),\n",
              " array([0.00428571, 0.10385714, 0.20342857, 0.303     , 0.40257143,\n",
              "        0.50214286, 0.60171429, 0.70128571, 0.80085714, 0.90042857,\n",
              "        1.        ]),\n",
              " <a list of 10 Patch objects>)"
            ]
          },
          "metadata": {},
          "execution_count": 34
        },
        {
          "output_type": "display_data",
          "data": {
            "text/plain": [
              "<Figure size 432x288 with 1 Axes>"
            ],
            "image/png": "[encoded data removed]"
          },
          "metadata": {
            "needs_background": "light"
          }
        }
      ]
    },
    {
      "cell_type": "code",
      "source": [
        "g2_P = treatment_k_fold_fit_and_predict(make_gmodel_logisticRegression, X=confounders_without_Mediator, \n",
        "                                      A=placebo, n_splits=10)\n",
        "g2_P_overlap = np.concatenate((g2_P[:315],g2_P[695:]))\n",
        "hist(g2_P_overlap, density=True)"
      ],
      "metadata": {
        "colab": {
          "base_uri": "https://localhost:8080/",
          "height": 372
        },
        "outputId": "fa1fe76f-019d-4f2b-d5f9-0f2751a8d57f",
        "id": "klrRgxpx8cgt"
      },
      "execution_count": null,
      "outputs": [
        {
          "output_type": "execute_result",
          "data": {
            "text/plain": [
              "(array([ 1.86896496,  6.85287152, 22.94673645, 11.83677808,  4.25708685,\n",
              "         1.34980803,  6.02222043,  8.09884816,  4.88007517,  1.76513357]),\n",
              " array([0.49784265, 0.51215319, 0.52646374, 0.54077429, 0.55508484,\n",
              "        0.56939539, 0.58370594, 0.59801649, 0.61232703, 0.62663758,\n",
              "        0.64094813]),\n",
              " <a list of 10 Patch objects>)"
            ]
          },
          "metadata": {},
          "execution_count": 16
        },
        {
          "output_type": "display_data",
          "data": {
            "text/plain": [
              "<Figure size 432x288 with 1 Axes>"
            ],
            "image/png": "[encoded data removed]"
          },
          "metadata": {
            "needs_background": "light"
          }
        }
      ]
    },
    {
      "cell_type": "code",
      "source": [
        "g3_P = treatment_k_fold_fit_and_predict(make_gmodel_XGBClassifier, X=confounders_without_Mediator, \n",
        "                                      A=placebo, n_splits=10)\n",
        "g3_P_overlap = np.concatenate((g3_P[:315],g3_P[695:]))\n",
        "hist(g3_P_overlap, density=True)"
      ],
      "metadata": {
        "colab": {
          "base_uri": "https://localhost:8080/",
          "height": 372
        },
        "outputId": "f1e4dfef-0fb8-4993-8f5e-5a6df6e8c09e",
        "id": "FqCy4jSn8cgt"
      },
      "execution_count": null,
      "outputs": [
        {
          "output_type": "execute_result",
          "data": {
            "text/plain": [
              "(array([0.0562414 , 0.07498853, 0.26245986, 0.63740251, 5.83035821,\n",
              "        3.37448385, 1.34979354, 0.73113817, 0.28120699, 0.01874713]),\n",
              " array([0.15023658, 0.22949585, 0.30875512, 0.3880144 , 0.46727367,\n",
              "        0.54653294, 0.62579222, 0.70505149, 0.78431076, 0.86357004,\n",
              "        0.94282931]),\n",
              " <a list of 10 Patch objects>)"
            ]
          },
          "metadata": {},
          "execution_count": 17
        },
        {
          "output_type": "display_data",
          "data": {
            "text/plain": [
              "<Figure size 432x288 with 1 Axes>"
            ],
            "image/png": "[encoded data removed]"
          },
          "metadata": {
            "needs_background": "light"
          }
        }
      ]
    },
    {
      "cell_type": "markdown",
      "source": [
        "### Calculate Placebo Effect using RandomForest"
      ],
      "metadata": {
        "id": "NVitfEur7wBD"
      }
    },
    {
      "cell_type": "code",
      "source": [
        "def exclude_moderate(df: pd.DataFrame):\n",
        "  df = df.drop(data.index[315:695])\n",
        "  return df"
      ],
      "metadata": {
        "id": "9ywOOssgcCYi"
      },
      "execution_count": null,
      "outputs": []
    },
    {
      "cell_type": "code",
      "source": [
        "Q0_RF_P,Q1_RF_P = outcome_k_fold_fit_and_predict(make_Qmodel_randomForest, \n",
        "                                             X=confounders_without_Mediator, y=outcome, \n",
        "                                             A=placebo, n_splits=10, output_type=\"continuous\")"
      ],
      "metadata": {
        "id": "7adtoWgs7wBE"
      },
      "execution_count": null,
      "outputs": []
    },
    {
      "cell_type": "code",
      "source": [
        "data_and_nuisance_estimates_RF_P = pd.DataFrame({'g': g1_P, 'Q0': Q0_RF_P, 'Q1': Q1_RF_P, 'A': placebo, 'Y': outcome})\n",
        "data_and_nuisance_estimates_RF_P = exclude_moderate(data_and_nuisance_estimates_RF_P)\n"
      ],
      "metadata": {
        "id": "GJyMg1Qx7wBF"
      },
      "execution_count": null,
      "outputs": []
    },
    {
      "cell_type": "code",
      "source": [
        "tau_hat_RF_P, std_hat_RF_P = att_aiptw(**data_and_nuisance_estimates_RF_P)\n",
        "print(f\"The estimate using RandomForest is {tau_hat_RF_P} pm {1.96*std_hat_RF_P}\")"
      ],
      "metadata": {
        "colab": {
          "base_uri": "https://localhost:8080/"
        },
        "outputId": "92d0e8e4-fa96-4afe-a78d-31515df9e630",
        "id": "URq1Fn5M7wBG"
      },
      "execution_count": null,
      "outputs": [
        {
          "output_type": "stream",
          "name": "stdout",
          "text": [
            "The estimate using RandomForest is -4.735492327205506 pm 8.943276284859685\n"
          ]
        }
      ]
    },
    {
      "cell_type": "markdown",
      "source": [
        "### Calculate Placebo Effect using Logistic Regression"
      ],
      "metadata": {
        "id": "0HQo9gRe7wBG"
      }
    },
    {
      "cell_type": "code",
      "source": [
        "Q0_LR_P,Q1_LR_P = outcome_k_fold_fit_and_predict(make_Qmodel_linearRegression, \n",
        "                                             X=confounders_without_Mediator, y=outcome, \n",
        "                                             A=placebo, n_splits=10, output_type=\"continuous\")"
      ],
      "metadata": {
        "id": "rYyhUes57wBG"
      },
      "execution_count": null,
      "outputs": []
    },
    {
      "cell_type": "code",
      "source": [
        "data_and_nuisance_estimates_LR_P = pd.DataFrame({'g': g2_P, 'Q0': Q0_LR_P, 'Q1': Q1_LR_P, 'A': placebo, 'Y': outcome})\n",
        "data_and_nuisance_estimates_LR_P = exclude_moderate(data_and_nuisance_estimates_LR_P)\n",
        "data_and_nuisance_estimates_LR_P.head()"
      ],
      "metadata": {
        "colab": {
          "base_uri": "https://localhost:8080/",
          "height": 206
        },
        "outputId": "fca567cb-852e-4399-99bb-07b666e9c282",
        "id": "5wprpXtc7wBH"
      },
      "execution_count": null,
      "outputs": [
        {
          "output_type": "execute_result",
          "data": {
            "text/plain": [
              "          g         Q0         Q1  A          Y\n",
              "0  0.568357  69.409067  69.618939  0  72.000000\n",
              "1  0.523014  71.191488  71.832179  0  73.333336\n",
              "2  0.535634  71.079421  71.722667  0  74.333336\n",
              "3  0.516596  71.014851  71.658097  0  71.333336\n",
              "4  0.601872  67.375813  68.233413  0  83.333336"
            ],
            "text/html": [
              "\n",
              "  <div id=\"df-c7ecb7f7-9df3-4dbc-9d84-13914337ea6d\">\n",
              "    <div class=\"colab-df-container\">\n",
              "      <div>\n",
              "<style scoped>\n",
              "    .dataframe tbody tr th:only-of-type {\n",
              "        vertical-align: middle;\n",
              "    }\n",
              "\n",
              "    .dataframe tbody tr th {\n",
              "        vertical-align: top;\n",
              "    }\n",
              "\n",
              "    .dataframe thead th {\n",
              "        text-align: right;\n",
              "    }\n",
              "</style>\n",
              "<table border=\"1\" class=\"dataframe\">\n",
              "  <thead>\n",
              "    <tr style=\"text-align: right;\">\n",
              "      <th></th>\n",
              "      <th>g</th>\n",
              "      <th>Q0</th>\n",
              "      <th>Q1</th>\n",
              "      <th>A</th>\n",
              "      <th>Y</th>\n",
              "    </tr>\n",
              "  </thead>\n",
              "  <tbody>\n",
              "    <tr>\n",
              "      <th>0</th>\n",
              "      <td>0.568357</td>\n",
              "      <td>69.409067</td>\n",
              "      <td>69.618939</td>\n",
              "      <td>0</td>\n",
              "      <td>72.000000</td>\n",
              "    </tr>\n",
              "    <tr>\n",
              "      <th>1</th>\n",
              "      <td>0.523014</td>\n",
              "      <td>71.191488</td>\n",
              "      <td>71.832179</td>\n",
              "      <td>0</td>\n",
              "      <td>73.333336</td>\n",
              "    </tr>\n",
              "    <tr>\n",
              "      <th>2</th>\n",
              "      <td>0.535634</td>\n",
              "      <td>71.079421</td>\n",
              "      <td>71.722667</td>\n",
              "      <td>0</td>\n",
              "      <td>74.333336</td>\n",
              "    </tr>\n",
              "    <tr>\n",
              "      <th>3</th>\n",
              "      <td>0.516596</td>\n",
              "      <td>71.014851</td>\n",
              "      <td>71.658097</td>\n",
              "      <td>0</td>\n",
              "      <td>71.333336</td>\n",
              "    </tr>\n",
              "    <tr>\n",
              "      <th>4</th>\n",
              "      <td>0.601872</td>\n",
              "      <td>67.375813</td>\n",
              "      <td>68.233413</td>\n",
              "      <td>0</td>\n",
              "      <td>83.333336</td>\n",
              "    </tr>\n",
              "  </tbody>\n",
              "</table>\n",
              "</div>\n",
              "      <button class=\"colab-df-convert\" onclick=\"convertToInteractive('df-c7ecb7f7-9df3-4dbc-9d84-13914337ea6d')\"\n",
              "              title=\"Convert this dataframe to an interactive table.\"\n",
              "              style=\"display:none;\">\n",
              "        \n",
              "  <svg xmlns=\"http://www.w3.org/2000/svg\" height=\"24px\"viewBox=\"0 0 24 24\"\n",
              "       width=\"24px\">\n",
              "    <path d=\"M0 0h24v24H0V0z\" fill=\"none\"/>\n",
              "    <path d=\"M18.56 5.44l.94 2.06.94-2.06 2.06-.94-2.06-.94-.94-2.06-.94 2.06-2.06.94zm-11 1L8.5 8.5l.94-2.06 2.06-.94-2.06-.94L8.5 2.5l-.94 2.06-2.06.94zm10 10l.94 2.06.94-2.06 2.06-.94-2.06-.94-.94-2.06-.94 2.06-2.06.94z\"/><path d=\"M17.41 7.96l-1.37-1.37c-.4-.4-.92-.59-1.43-.59-.52 0-1.04.2-1.43.59L10.3 9.45l-7.72 7.72c-.78.78-.78 2.05 0 2.83L4 21.41c.39.39.9.59 1.41.59.51 0 1.02-.2 1.41-.59l7.78-7.78 2.81-2.81c.8-.78.8-2.07 0-2.86zM5.41 20L4 18.59l7.72-7.72 1.47 1.35L5.41 20z\"/>\n",
              "  </svg>\n",
              "      </button>\n",
              "      \n",
              "  <style>\n",
              "    .colab-df-container {\n",
              "      display:flex;\n",
              "      flex-wrap:wrap;\n",
              "      gap: 12px;\n",
              "    }\n",
              "\n",
              "    .colab-df-convert {\n",
              "      background-color: #E8F0FE;\n",
              "      border: none;\n",
              "      border-radius: 50%;\n",
              "      cursor: pointer;\n",
              "      display: none;\n",
              "      fill: #1967D2;\n",
              "      height: 32px;\n",
              "      padding: 0 0 0 0;\n",
              "      width: 32px;\n",
              "    }\n",
              "\n",
              "    .colab-df-convert:hover {\n",
              "      background-color: #E2EBFA;\n",
              "      box-shadow: 0px 1px 2px rgba(60, 64, 67, 0.3), 0px 1px 3px 1px rgba(60, 64, 67, 0.15);\n",
              "      fill: #174EA6;\n",
              "    }\n",
              "\n",
              "    [theme=dark] .colab-df-convert {\n",
              "      background-color: #3B4455;\n",
              "      fill: #D2E3FC;\n",
              "    }\n",
              "\n",
              "    [theme=dark] .colab-df-convert:hover {\n",
              "      background-color: #434B5C;\n",
              "      box-shadow: 0px 1px 3px 1px rgba(0, 0, 0, 0.15);\n",
              "      filter: drop-shadow(0px 1px 2px rgba(0, 0, 0, 0.3));\n",
              "      fill: #FFFFFF;\n",
              "    }\n",
              "  </style>\n",
              "\n",
              "      <script>\n",
              "        const buttonEl =\n",
              "          document.querySelector('#df-c7ecb7f7-9df3-4dbc-9d84-13914337ea6d button.colab-df-convert');\n",
              "        buttonEl.style.display =\n",
              "          google.colab.kernel.accessAllowed ? 'block' : 'none';\n",
              "\n",
              "        async function convertToInteractive(key) {\n",
              "          const element = document.querySelector('#df-c7ecb7f7-9df3-4dbc-9d84-13914337ea6d');\n",
              "          const dataTable =\n",
              "            await google.colab.kernel.invokeFunction('convertToInteractive',\n",
              "                                                     [key], {});\n",
              "          if (!dataTable) return;\n",
              "\n",
              "          const docLinkHtml = 'Like what you see? Visit the ' +\n",
              "            '<a target=\"_blank\" href=https://colab.research.google.com/notebooks/data_table.ipynb>data table notebook</a>'\n",
              "            + ' to learn more about interactive tables.';\n",
              "          element.innerHTML = '';\n",
              "          dataTable['output_type'] = 'display_data';\n",
              "          await google.colab.output.renderOutput(dataTable, element);\n",
              "          const docLink = document.createElement('div');\n",
              "          docLink.innerHTML = docLinkHtml;\n",
              "          element.appendChild(docLink);\n",
              "        }\n",
              "      </script>\n",
              "    </div>\n",
              "  </div>\n",
              "  "
            ]
          },
          "metadata": {},
          "execution_count": 23
        }
      ]
    },
    {
      "cell_type": "code",
      "source": [
        "tau_hat_LR_P, std_hat_LR_P = att_aiptw(**data_and_nuisance_estimates_LR_P)\n",
        "print(f\"The estimate using Logistic Regression is {tau_hat_LR_P} pm {1.96*std_hat_LR_P}\")"
      ],
      "metadata": {
        "colab": {
          "base_uri": "https://localhost:8080/"
        },
        "outputId": "c9dc3b1d-7957-4d34-f997-2956be06762a",
        "id": "IhhHLesv7wBH"
      },
      "execution_count": null,
      "outputs": [
        {
          "output_type": "stream",
          "name": "stdout",
          "text": [
            "The estimate using Logistic Regression is 0.47354212276065005 pm 1.8256784464215154\n"
          ]
        }
      ]
    },
    {
      "cell_type": "markdown",
      "source": [
        "### Calculate Plcebo Effect using XGBoost"
      ],
      "metadata": {
        "id": "2Md2KPRV7wBI"
      }
    },
    {
      "cell_type": "code",
      "source": [
        "Q0_XG_P,Q1_XG_P = outcome_k_fold_fit_and_predict(make_Qmodel_XGBoost, \n",
        "                                             X=confounders_without_Mediator, y=outcome, \n",
        "                                             A=placebo, n_splits=10, output_type=\"continuous\")"
      ],
      "metadata": {
        "id": "ZA4mAGK37wBI"
      },
      "execution_count": null,
      "outputs": []
    },
    {
      "cell_type": "code",
      "source": [
        "data_and_nuisance_estimates_XG_P = pd.DataFrame({'g': g3_P, 'Q0': Q0_XG_P, 'Q1': Q1_XG_P, 'A': placebo, 'Y': outcome})\n",
        "data_and_nuisance_estimates_XG_P = exclude_moderate(data_and_nuisance_estimates_XG_P)\n",
        "data_and_nuisance_estimates_XG_P.head()"
      ],
      "metadata": {
        "colab": {
          "base_uri": "https://localhost:8080/",
          "height": 206
        },
        "outputId": "3b76f3c6-236f-401c-eab2-c8a86f364197",
        "id": "Llg2fyLz7wBI"
      },
      "execution_count": null,
      "outputs": [
        {
          "output_type": "execute_result",
          "data": {
            "text/plain": [
              "          g         Q0         Q1  A          Y\n",
              "0  0.425523  70.126801  74.089684  0  72.000000\n",
              "1  0.532893  69.813889  69.862900  0  73.333336\n",
              "2  0.530421  73.734901  73.343521  0  74.333336\n",
              "3  0.538896  74.698303  74.618530  0  71.333336\n",
              "4  0.510170  70.006950  70.087860  0  83.333336"
            ],
            "text/html": [
              "\n",
              "  <div id=\"df-b58afc24-49ce-47c0-a98c-6e896262f7dd\">\n",
              "    <div class=\"colab-df-container\">\n",
              "      <div>\n",
              "<style scoped>\n",
              "    .dataframe tbody tr th:only-of-type {\n",
              "        vertical-align: middle;\n",
              "    }\n",
              "\n",
              "    .dataframe tbody tr th {\n",
              "        vertical-align: top;\n",
              "    }\n",
              "\n",
              "    .dataframe thead th {\n",
              "        text-align: right;\n",
              "    }\n",
              "</style>\n",
              "<table border=\"1\" class=\"dataframe\">\n",
              "  <thead>\n",
              "    <tr style=\"text-align: right;\">\n",
              "      <th></th>\n",
              "      <th>g</th>\n",
              "      <th>Q0</th>\n",
              "      <th>Q1</th>\n",
              "      <th>A</th>\n",
              "      <th>Y</th>\n",
              "    </tr>\n",
              "  </thead>\n",
              "  <tbody>\n",
              "    <tr>\n",
              "      <th>0</th>\n",
              "      <td>0.425523</td>\n",
              "      <td>70.126801</td>\n",
              "      <td>74.089684</td>\n",
              "      <td>0</td>\n",
              "      <td>72.000000</td>\n",
              "    </tr>\n",
              "    <tr>\n",
              "      <th>1</th>\n",
              "      <td>0.532893</td>\n",
              "      <td>69.813889</td>\n",
              "      <td>69.862900</td>\n",
              "      <td>0</td>\n",
              "      <td>73.333336</td>\n",
              "    </tr>\n",
              "    <tr>\n",
              "      <th>2</th>\n",
              "      <td>0.530421</td>\n",
              "      <td>73.734901</td>\n",
              "      <td>73.343521</td>\n",
              "      <td>0</td>\n",
              "      <td>74.333336</td>\n",
              "    </tr>\n",
              "    <tr>\n",
              "      <th>3</th>\n",
              "      <td>0.538896</td>\n",
              "      <td>74.698303</td>\n",
              "      <td>74.618530</td>\n",
              "      <td>0</td>\n",
              "      <td>71.333336</td>\n",
              "    </tr>\n",
              "    <tr>\n",
              "      <th>4</th>\n",
              "      <td>0.510170</td>\n",
              "      <td>70.006950</td>\n",
              "      <td>70.087860</td>\n",
              "      <td>0</td>\n",
              "      <td>83.333336</td>\n",
              "    </tr>\n",
              "  </tbody>\n",
              "</table>\n",
              "</div>\n",
              "      <button class=\"colab-df-convert\" onclick=\"convertToInteractive('df-b58afc24-49ce-47c0-a98c-6e896262f7dd')\"\n",
              "              title=\"Convert this dataframe to an interactive table.\"\n",
              "              style=\"display:none;\">\n",
              "        \n",
              "  <svg xmlns=\"http://www.w3.org/2000/svg\" height=\"24px\"viewBox=\"0 0 24 24\"\n",
              "       width=\"24px\">\n",
              "    <path d=\"M0 0h24v24H0V0z\" fill=\"none\"/>\n",
              "    <path d=\"M18.56 5.44l.94 2.06.94-2.06 2.06-.94-2.06-.94-.94-2.06-.94 2.06-2.06.94zm-11 1L8.5 8.5l.94-2.06 2.06-.94-2.06-.94L8.5 2.5l-.94 2.06-2.06.94zm10 10l.94 2.06.94-2.06 2.06-.94-2.06-.94-.94-2.06-.94 2.06-2.06.94z\"/><path d=\"M17.41 7.96l-1.37-1.37c-.4-.4-.92-.59-1.43-.59-.52 0-1.04.2-1.43.59L10.3 9.45l-7.72 7.72c-.78.78-.78 2.05 0 2.83L4 21.41c.39.39.9.59 1.41.59.51 0 1.02-.2 1.41-.59l7.78-7.78 2.81-2.81c.8-.78.8-2.07 0-2.86zM5.41 20L4 18.59l7.72-7.72 1.47 1.35L5.41 20z\"/>\n",
              "  </svg>\n",
              "      </button>\n",
              "      \n",
              "  <style>\n",
              "    .colab-df-container {\n",
              "      display:flex;\n",
              "      flex-wrap:wrap;\n",
              "      gap: 12px;\n",
              "    }\n",
              "\n",
              "    .colab-df-convert {\n",
              "      background-color: #E8F0FE;\n",
              "      border: none;\n",
              "      border-radius: 50%;\n",
              "      cursor: pointer;\n",
              "      display: none;\n",
              "      fill: #1967D2;\n",
              "      height: 32px;\n",
              "      padding: 0 0 0 0;\n",
              "      width: 32px;\n",
              "    }\n",
              "\n",
              "    .colab-df-convert:hover {\n",
              "      background-color: #E2EBFA;\n",
              "      box-shadow: 0px 1px 2px rgba(60, 64, 67, 0.3), 0px 1px 3px 1px rgba(60, 64, 67, 0.15);\n",
              "      fill: #174EA6;\n",
              "    }\n",
              "\n",
              "    [theme=dark] .colab-df-convert {\n",
              "      background-color: #3B4455;\n",
              "      fill: #D2E3FC;\n",
              "    }\n",
              "\n",
              "    [theme=dark] .colab-df-convert:hover {\n",
              "      background-color: #434B5C;\n",
              "      box-shadow: 0px 1px 3px 1px rgba(0, 0, 0, 0.15);\n",
              "      filter: drop-shadow(0px 1px 2px rgba(0, 0, 0, 0.3));\n",
              "      fill: #FFFFFF;\n",
              "    }\n",
              "  </style>\n",
              "\n",
              "      <script>\n",
              "        const buttonEl =\n",
              "          document.querySelector('#df-b58afc24-49ce-47c0-a98c-6e896262f7dd button.colab-df-convert');\n",
              "        buttonEl.style.display =\n",
              "          google.colab.kernel.accessAllowed ? 'block' : 'none';\n",
              "\n",
              "        async function convertToInteractive(key) {\n",
              "          const element = document.querySelector('#df-b58afc24-49ce-47c0-a98c-6e896262f7dd');\n",
              "          const dataTable =\n",
              "            await google.colab.kernel.invokeFunction('convertToInteractive',\n",
              "                                                     [key], {});\n",
              "          if (!dataTable) return;\n",
              "\n",
              "          const docLinkHtml = 'Like what you see? Visit the ' +\n",
              "            '<a target=\"_blank\" href=https://colab.research.google.com/notebooks/data_table.ipynb>data table notebook</a>'\n",
              "            + ' to learn more about interactive tables.';\n",
              "          element.innerHTML = '';\n",
              "          dataTable['output_type'] = 'display_data';\n",
              "          await google.colab.output.renderOutput(dataTable, element);\n",
              "          const docLink = document.createElement('div');\n",
              "          docLink.innerHTML = docLinkHtml;\n",
              "          element.appendChild(docLink);\n",
              "        }\n",
              "      </script>\n",
              "    </div>\n",
              "  </div>\n",
              "  "
            ]
          },
          "metadata": {},
          "execution_count": 26
        }
      ]
    },
    {
      "cell_type": "code",
      "source": [
        "tau_hat_XG_P, std_hat_XG_P = att_aiptw(**data_and_nuisance_estimates_XG_P)\n",
        "print(f\"The estimate using XGBoost is {tau_hat_XG_P} pm {1.96*std_hat_XG_P}\")"
      ],
      "metadata": {
        "colab": {
          "base_uri": "https://localhost:8080/"
        },
        "outputId": "684630f3-1287-4c09-f6ac-dc9ae2a72e76",
        "id": "czW8cvpw7wBJ"
      },
      "execution_count": null,
      "outputs": [
        {
          "output_type": "stream",
          "name": "stdout",
          "text": [
            "The estimate using XGBoost is 0.1893047136440993 pm 1.8805321999269913\n"
          ]
        }
      ]
    },
    {
      "cell_type": "markdown",
      "source": [
        "# The table of results"
      ],
      "metadata": {
        "id": "XDCavsMVGuMd"
      }
    },
    {
      "cell_type": "code",
      "source": [
        "Plb_table = [['Outcome','Type of causal effect', 'Model', 'Estimate','p/m', 'Standard Error'],\n",
        "                 ['Fall_grade','Placebo Effect on Agreealeness', 'RandomForest',tau_hat_RF_P,1.96*std_hat_RF_P,std_hat_RF_P], \n",
        "                 ['Fall_grade','Placebo Effect on Agreealeness', 'Logistic Regression',tau_hat_LR_P,1.96*std_hat_LR_P,std_hat_LR_P],\n",
        "                 ['Fall_grade','Placebo Effect on Agreealeness', 'XGBoost',tau_hat_XG_P,1.96*std_hat_XG_P,std_hat_XG_P]]"
      ],
      "metadata": {
        "id": "pHDetKfeMdzM"
      },
      "execution_count": null,
      "outputs": []
    },
    {
      "cell_type": "code",
      "source": [
        "df_plb = pd.DataFrame(Plb_table)\n",
        "df_plb.columns = df_plb.iloc[0]\n",
        "df_plb = df_plb[1:]\n",
        "df_plb"
      ],
      "metadata": {
        "colab": {
          "base_uri": "https://localhost:8080/",
          "height": 257
        },
        "id": "TmjGF1wHNFbB",
        "outputId": "9f9e6bc0-850b-4f5b-dcff-6ea620d11ee1"
      },
      "execution_count": null,
      "outputs": [
        {
          "output_type": "execute_result",
          "data": {
            "text/plain": [
              "0     Outcome           Type of causal effect                Model  Estimate  \\\n",
              "1  Fall_grade  Placebo Effect on Agreealeness         RandomForest -4.735492   \n",
              "2  Fall_grade  Placebo Effect on Agreealeness  Logistic Regression  0.473542   \n",
              "3  Fall_grade  Placebo Effect on Agreealeness              XGBoost  0.189305   \n",
              "\n",
              "0       p/m Standard Error  \n",
              "1  8.943276       4.562896  \n",
              "2  1.825678       0.931469  \n",
              "3  1.880532       0.959455  "
            ],
            "text/html": [
              "\n",
              "  <div id=\"df-4c0996ee-7ad6-4b94-b808-8420e51d2101\">\n",
              "    <div class=\"colab-df-container\">\n",
              "      <div>\n",
              "<style scoped>\n",
              "    .dataframe tbody tr th:only-of-type {\n",
              "        vertical-align: middle;\n",
              "    }\n",
              "\n",
              "    .dataframe tbody tr th {\n",
              "        vertical-align: top;\n",
              "    }\n",
              "\n",
              "    .dataframe thead th {\n",
              "        text-align: right;\n",
              "    }\n",
              "</style>\n",
              "<table border=\"1\" class=\"dataframe\">\n",
              "  <thead>\n",
              "    <tr style=\"text-align: right;\">\n",
              "      <th></th>\n",
              "      <th>Outcome</th>\n",
              "      <th>Type of causal effect</th>\n",
              "      <th>Model</th>\n",
              "      <th>Estimate</th>\n",
              "      <th>p/m</th>\n",
              "      <th>Standard Error</th>\n",
              "    </tr>\n",
              "  </thead>\n",
              "  <tbody>\n",
              "    <tr>\n",
              "      <th>1</th>\n",
              "      <td>Fall_grade</td>\n",
              "      <td>Placebo Effect on Agreealeness</td>\n",
              "      <td>RandomForest</td>\n",
              "      <td>-4.735492</td>\n",
              "      <td>8.943276</td>\n",
              "      <td>4.562896</td>\n",
              "    </tr>\n",
              "    <tr>\n",
              "      <th>2</th>\n",
              "      <td>Fall_grade</td>\n",
              "      <td>Placebo Effect on Agreealeness</td>\n",
              "      <td>Logistic Regression</td>\n",
              "      <td>0.473542</td>\n",
              "      <td>1.825678</td>\n",
              "      <td>0.931469</td>\n",
              "    </tr>\n",
              "    <tr>\n",
              "      <th>3</th>\n",
              "      <td>Fall_grade</td>\n",
              "      <td>Placebo Effect on Agreealeness</td>\n",
              "      <td>XGBoost</td>\n",
              "      <td>0.189305</td>\n",
              "      <td>1.880532</td>\n",
              "      <td>0.959455</td>\n",
              "    </tr>\n",
              "  </tbody>\n",
              "</table>\n",
              "</div>\n",
              "      <button class=\"colab-df-convert\" onclick=\"convertToInteractive('df-4c0996ee-7ad6-4b94-b808-8420e51d2101')\"\n",
              "              title=\"Convert this dataframe to an interactive table.\"\n",
              "              style=\"display:none;\">\n",
              "        \n",
              "  <svg xmlns=\"http://www.w3.org/2000/svg\" height=\"24px\"viewBox=\"0 0 24 24\"\n",
              "       width=\"24px\">\n",
              "    <path d=\"M0 0h24v24H0V0z\" fill=\"none\"/>\n",
              "    <path d=\"M18.56 5.44l.94 2.06.94-2.06 2.06-.94-2.06-.94-.94-2.06-.94 2.06-2.06.94zm-11 1L8.5 8.5l.94-2.06 2.06-.94-2.06-.94L8.5 2.5l-.94 2.06-2.06.94zm10 10l.94 2.06.94-2.06 2.06-.94-2.06-.94-.94-2.06-.94 2.06-2.06.94z\"/><path d=\"M17.41 7.96l-1.37-1.37c-.4-.4-.92-.59-1.43-.59-.52 0-1.04.2-1.43.59L10.3 9.45l-7.72 7.72c-.78.78-.78 2.05 0 2.83L4 21.41c.39.39.9.59 1.41.59.51 0 1.02-.2 1.41-.59l7.78-7.78 2.81-2.81c.8-.78.8-2.07 0-2.86zM5.41 20L4 18.59l7.72-7.72 1.47 1.35L5.41 20z\"/>\n",
              "  </svg>\n",
              "      </button>\n",
              "      \n",
              "  <style>\n",
              "    .colab-df-container {\n",
              "      display:flex;\n",
              "      flex-wrap:wrap;\n",
              "      gap: 12px;\n",
              "    }\n",
              "\n",
              "    .colab-df-convert {\n",
              "      background-color: #E8F0FE;\n",
              "      border: none;\n",
              "      border-radius: 50%;\n",
              "      cursor: pointer;\n",
              "      display: none;\n",
              "      fill: #1967D2;\n",
              "      height: 32px;\n",
              "      padding: 0 0 0 0;\n",
              "      width: 32px;\n",
              "    }\n",
              "\n",
              "    .colab-df-convert:hover {\n",
              "      background-color: #E2EBFA;\n",
              "      box-shadow: 0px 1px 2px rgba(60, 64, 67, 0.3), 0px 1px 3px 1px rgba(60, 64, 67, 0.15);\n",
              "      fill: #174EA6;\n",
              "    }\n",
              "\n",
              "    [theme=dark] .colab-df-convert {\n",
              "      background-color: #3B4455;\n",
              "      fill: #D2E3FC;\n",
              "    }\n",
              "\n",
              "    [theme=dark] .colab-df-convert:hover {\n",
              "      background-color: #434B5C;\n",
              "      box-shadow: 0px 1px 3px 1px rgba(0, 0, 0, 0.15);\n",
              "      filter: drop-shadow(0px 1px 2px rgba(0, 0, 0, 0.3));\n",
              "      fill: #FFFFFF;\n",
              "    }\n",
              "  </style>\n",
              "\n",
              "      <script>\n",
              "        const buttonEl =\n",
              "          document.querySelector('#df-4c0996ee-7ad6-4b94-b808-8420e51d2101 button.colab-df-convert');\n",
              "        buttonEl.style.display =\n",
              "          google.colab.kernel.accessAllowed ? 'block' : 'none';\n",
              "\n",
              "        async function convertToInteractive(key) {\n",
              "          const element = document.querySelector('#df-4c0996ee-7ad6-4b94-b808-8420e51d2101');\n",
              "          const dataTable =\n",
              "            await google.colab.kernel.invokeFunction('convertToInteractive',\n",
              "                                                     [key], {});\n",
              "          if (!dataTable) return;\n",
              "\n",
              "          const docLinkHtml = 'Like what you see? Visit the ' +\n",
              "            '<a target=\"_blank\" href=https://colab.research.google.com/notebooks/data_table.ipynb>data table notebook</a>'\n",
              "            + ' to learn more about interactive tables.';\n",
              "          element.innerHTML = '';\n",
              "          dataTable['output_type'] = 'display_data';\n",
              "          await google.colab.output.renderOutput(dataTable, element);\n",
              "          const docLink = document.createElement('div');\n",
              "          docLink.innerHTML = docLinkHtml;\n",
              "          element.appendChild(docLink);\n",
              "        }\n",
              "      </script>\n",
              "    </div>\n",
              "  </div>\n",
              "  "
            ]
          },
          "metadata": {},
          "execution_count": 44
        }
      ]
    }
  ],
  "metadata": {
    "colab": {
      "provenance": [],
      "toc_visible": true,
      "collapsed_sections": [
        "2RkvV_4_dFWo",
        "OTLgbqcTPJZf"
      ],
      "include_colab_link": true
    },
    "kernelspec": {
      "display_name": "Python 3",
      "name": "python3"
    },
    "language_info": {
      "name": "python"
    }
  },
  "nbformat": 4,
  "nbformat_minor": 0
}